{
 "cells": [
  {
   "cell_type": "code",
   "execution_count": null,
   "metadata": {},
   "outputs": [],
   "source": [
    "# Langchain dependencies\n",
    "from langchain.document_loaders.pdf import (\n",
    "    PyPDFDirectoryLoader,\n",
    ")  # Importing PDF loader from Langchain\n",
    "from langchain.text_splitter import (\n",
    "    RecursiveCharacterTextSplitter,\n",
    ")  # Importing text splitter from Langchain\n",
    "from langchain.embeddings import (\n",
    "    OpenAIEmbeddings,\n",
    ")  # Importing OpenAI embeddings from Langchain\n",
    "from langchain.schema import Document  # Importing Document schema from Langchain\n",
    "from langchain.vectorstores.chroma import (\n",
    "    Chroma,\n",
    ")  # Importing Chroma vector store from Langchain\n",
    "from dotenv import load_dotenv  # Importing dotenv to get API key from .env file\n",
    "from langchain.chat_models import ChatOpenAI\n",
    "\n",
    "\n",
    "import os  # Importing os module for operating system functionalities\n",
    "import shutil  # Importing shutil module for high-level file operations"
   ]
  },
  {
   "cell_type": "code",
   "execution_count": 4,
   "metadata": {},
   "outputs": [],
   "source": [
    "# Directory to your pdf files:\n",
    "DATA_PATH = r\"../data\"\n",
    "\n",
    "\n",
    "def load_documents():\n",
    "    \"\"\"\n",
    "    Load PDF documents from the specified directory using PyPDFDirectoryLoader.\n",
    "\n",
    "    Returns:\n",
    "        List of Document objects: Loaded PDF documents represented as Langchain Document objects.\n",
    "    \"\"\"\n",
    "    document_loader = PyPDFDirectoryLoader(\n",
    "        DATA_PATH\n",
    "    )  # Initialize PDF loader with specified directory\n",
    "    return (\n",
    "        document_loader.load()\n",
    "    )  # Load PDF documents and return them as a list of Document objects"
   ]
  },
  {
   "cell_type": "code",
   "execution_count": null,
   "metadata": {},
   "outputs": [],
   "source": [
    "documents = load_documents()\n",
    "print(documents)"
   ]
  },
  {
   "cell_type": "code",
   "execution_count": null,
   "metadata": {},
   "outputs": [],
   "source": [
    "type(documents)"
   ]
  },
  {
   "cell_type": "code",
   "execution_count": 8,
   "metadata": {},
   "outputs": [],
   "source": [
    "def split_text(documents: list[Document]):\n",
    "    \"\"\"\n",
    "    Split the text content of the given list of Document objects into smaller chunks.\n",
    "\n",
    "    Args:\n",
    "        documents (list[Document]): List of Document objects containing text content to split.\n",
    "\n",
    "    Returns:\n",
    "        list[Document]: List of Document objects representing the split text chunks.\n",
    "    \"\"\"\n",
    "    # Initialize text splitter with specified parameters\n",
    "    text_splitter = RecursiveCharacterTextSplitter(\n",
    "        chunk_size=400,  # Size of each chunk in characters\n",
    "        chunk_overlap=100,  # Overlap between consecutive chunks\n",
    "        length_function=len,  # Function to compute the length of the text\n",
    "        add_start_index=True,  # Flag to add start index to each chunk\n",
    "    )\n",
    "    # Split documents into smaller chunks using text splitter\n",
    "    chunks = text_splitter.split_documents(documents)\n",
    "    print(f\"Split {len(documents)} documents into {len(chunks)} chunks.\")\n",
    "\n",
    "    # Print example of page content and metadata for a chunk\n",
    "    document = chunks[10]\n",
    "    print(document.page_content)\n",
    "    print(document.metadata)\n",
    "\n",
    "    return chunks  # Return the list of split text chunks"
   ]
  },
  {
   "cell_type": "code",
   "execution_count": null,
   "metadata": {},
   "outputs": [],
   "source": [
    "chunks = split_text(documents)"
   ]
  },
  {
   "cell_type": "code",
   "execution_count": null,
   "metadata": {},
   "outputs": [],
   "source": [
    "for chunk in chunks:\n",
    "    print(chunk)\n",
    "    print(\"\\n\")"
   ]
  },
  {
   "cell_type": "code",
   "execution_count": 19,
   "metadata": {},
   "outputs": [],
   "source": [
    "CHROMA_PATH = \"../chroma\""
   ]
  },
  {
   "cell_type": "code",
   "execution_count": 20,
   "metadata": {},
   "outputs": [],
   "source": [
    "def save_to_chroma(chunks: list[Document]):\n",
    "    \"\"\"\n",
    "    Save the given list of Document objects to a Chroma database.\n",
    "    Args:\n",
    "    chunks (list[Document]): List of Document objects representing text chunks to save.\n",
    "    Returns:\n",
    "    None\n",
    "    \"\"\"\n",
    "\n",
    "    # Clear out the existing database directory if it exists\n",
    "    if os.path.exists(CHROMA_PATH):\n",
    "        shutil.rmtree(CHROMA_PATH)\n",
    "\n",
    "    # Create a new Chroma database from the documents using OpenAI embeddings\n",
    "    db = Chroma.from_documents(\n",
    "        chunks, OpenAIEmbeddings(), persist_directory=CHROMA_PATH\n",
    "    )\n",
    "\n",
    "    # Persist the database to disk\n",
    "    db.persist()\n",
    "    print(f\"Saved {len(chunks)} chunks to {CHROMA_PATH}.\")"
   ]
  },
  {
   "cell_type": "code",
   "execution_count": 21,
   "metadata": {},
   "outputs": [],
   "source": [
    "def generate_data_store():\n",
    "    \"\"\"\n",
    "    Function to generate vector database in chroma from documents.\n",
    "    \"\"\"\n",
    "    documents = load_documents()  # Load documents from a source\n",
    "    chunks = split_text(documents)  # Split documents into manageable chunks\n",
    "    save_to_chroma(chunks)  # Save the processed data to a data store"
   ]
  },
  {
   "cell_type": "code",
   "execution_count": 23,
   "metadata": {},
   "outputs": [],
   "source": [
    "# issue with Langchain and Chroma db https://github.com/langchain-ai/langchain/issues/26884\n",
    "import chromadb\n",
    "\n",
    "chromadb.api.client.SharedSystemClient.clear_system_cache()"
   ]
  },
  {
   "cell_type": "code",
   "execution_count": null,
   "metadata": {},
   "outputs": [],
   "source": [
    "# Load environment variables from a .env file\n",
    "load_dotenv()\n",
    "# Generate the data store\n",
    "generate_data_store()"
   ]
  },
  {
   "cell_type": "code",
   "execution_count": 25,
   "metadata": {},
   "outputs": [],
   "source": [
    "query_text = \"Explain how the gemini model works\""
   ]
  },
  {
   "cell_type": "code",
   "execution_count": 26,
   "metadata": {},
   "outputs": [],
   "source": [
    "PROMPT_TEMPLATE = \"\"\"\n",
    "Answer the question based only on the following context:\n",
    "\n",
    "{context}\n",
    "\n",
    "---\n",
    "\n",
    "Answer the question based on the above context: {question}\n",
    "\"\"\""
   ]
  },
  {
   "cell_type": "code",
   "execution_count": null,
   "metadata": {},
   "outputs": [],
   "source": [
    "# Use same embedding function as before\n",
    "embedding_function = OpenAIEmbeddings()\n",
    "\n",
    "# Prepare the database\n",
    "db = Chroma(persist_directory=CHROMA_PATH, embedding_function=embedding_function)\n",
    "\n",
    "# Search the DB.\n",
    "results = db.similarity_search_with_relevance_scores(query_text, k=3)\n",
    "if len(results) == 0 or results[0][1] < 0.7:\n",
    "    print(f\"Unable to find matching results.\")"
   ]
  },
  {
   "cell_type": "code",
   "execution_count": 28,
   "metadata": {},
   "outputs": [],
   "source": [
    "from langchain.prompts import ChatPromptTemplate"
   ]
  },
  {
   "cell_type": "code",
   "execution_count": null,
   "metadata": {},
   "outputs": [],
   "source": [
    "context_text = \"\\n\\n---\\n\\n\".join([doc.page_content for doc, _score in results])\n",
    "prompt_template = ChatPromptTemplate.from_template(PROMPT_TEMPLATE)\n",
    "prompt = prompt_template.format(context=context_text, question=query_text)\n",
    "print(prompt)"
   ]
  },
  {
   "cell_type": "code",
   "execution_count": null,
   "metadata": {},
   "outputs": [],
   "source": [
    "model = ChatOpenAI()\n",
    "response_text = model.predict(prompt)\n",
    "\n",
    "sources = [doc.metadata.get(\"source\", None) for doc, _score in results]\n",
    "formatted_response = f\"Response: {response_text}\\nSources: {sources}\"\n",
    "print(formatted_response)"
   ]
  },
  {
   "cell_type": "code",
   "execution_count": null,
   "metadata": {},
   "outputs": [],
   "source": [
    "response_text"
   ]
  },
  {
   "cell_type": "code",
   "execution_count": 32,
   "metadata": {},
   "outputs": [],
   "source": [
    "def query_rag(query_text):\n",
    "    \"\"\"\n",
    "    Query a Retrieval-Augmented Generation (RAG) system using Chroma database and OpenAI.\n",
    "\n",
    "    Args:\n",
    "    - query_text (str): The text to query the RAG system with.\n",
    "\n",
    "    Returns:\n",
    "    - formatted_response (str): Formatted response including the generated text and sources.\n",
    "    - response_text (str): The generated response text.\n",
    "    \"\"\"\n",
    "    # Use same embedding function as before\n",
    "    embedding_function = OpenAIEmbeddings()\n",
    "\n",
    "    # Prepare the database\n",
    "    db = Chroma(persist_directory=CHROMA_PATH, embedding_function=embedding_function)\n",
    "\n",
    "    # Search the DB.\n",
    "    results = db.similarity_search_with_relevance_scores(query_text, k=3)\n",
    "\n",
    "    # Check if there are any matching results or if the relevance score is too low\n",
    "    if len(results) == 0 or results[0][1] < 0.7:\n",
    "        print(f\"Unable to find matching results.\")\n",
    "\n",
    "    # Combine context from matching documents\n",
    "    context_text = \"\\n\\n---\\n\\n\".join([doc.page_content for doc, _score in results])\n",
    "\n",
    "    # Create prompt template using context and query text\n",
    "    prompt_template = ChatPromptTemplate.from_template(PROMPT_TEMPLATE)\n",
    "    prompt = prompt_template.format(context=context_text, question=query_text)\n",
    "\n",
    "    # Initialize OpenAI chat model\n",
    "    model = ChatOpenAI()\n",
    "\n",
    "    # Generate response text based on the prompt\n",
    "    response_text = model.predict(prompt)\n",
    "\n",
    "    # Get sources of the matching documents\n",
    "    sources = [doc.metadata.get(\"source\", None) for doc, _score in results]\n",
    "\n",
    "    # Format and return response including generated text and sources\n",
    "    formatted_response = f\"Response: {response_text}\\nSources: {sources}\"\n",
    "    return formatted_response, response_text"
   ]
  },
  {
   "cell_type": "code",
   "execution_count": 33,
   "metadata": {},
   "outputs": [],
   "source": [
    "formatted_response, response_text = query_rag(query_text)"
   ]
  },
  {
   "cell_type": "code",
   "execution_count": null,
   "metadata": {},
   "outputs": [],
   "source": [
    "response_text"
   ]
  }
 ],
 "metadata": {
  "kernelspec": {
   "display_name": ".venv",
   "language": "python",
   "name": "python3"
  },
  "language_info": {
   "codemirror_mode": {
    "name": "ipython",
    "version": 3
   },
   "file_extension": ".py",
   "mimetype": "text/x-python",
   "name": "python",
   "nbconvert_exporter": "python",
   "pygments_lexer": "ipython3",
   "version": "3.12.7"
  }
 },
 "nbformat": 4,
 "nbformat_minor": 2
}
